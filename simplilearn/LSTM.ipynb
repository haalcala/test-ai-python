{
 "cells": [
  {
   "cell_type": "code",
   "execution_count": 1,
   "id": "ef08247d-d4b4-4ff2-bb15-fd8be75f2d98",
   "metadata": {},
   "outputs": [],
   "source": [
    "import numpy as np\n",
    "\n",
    "import heapq\n",
    "\n",
    "import matplotlib.pyplot as plt\n",
    "\n",
    "from nltk.tokenize import RegexpTokenizer\n",
    "\n",
    "from keras.models import Sequential, load_model\n",
    "\n",
    "from keras.layers.core import Dense, Activation\n",
    "\n",
    "from keras.layers import LSTM\n",
    "\n",
    "import pickle\n",
    "\n",
    "from tensorflow.keras.optimizers import RMSprop"
   ]
  },
  {
   "cell_type": "code",
   "execution_count": 2,
   "id": "04678b9a-9a76-422a-9b17-07994d5d3b43",
   "metadata": {},
   "outputs": [],
   "source": [
    "# path = './data.txt'\n",
    "# text = open(path,'r', encoding=\"utf8\").read().lower()\n",
    "# print('length of the corpus is: :', len(text))\n",
    "# text[:100]\n",
    "\n",
    "text = \"aaa bbb ccc ddd eee fff ggg hhh iii jjj kkk lll mmm nnn ooo ppp qqq rrr sss ttt uuu vvv www xxx yyy zzz\"\n",
    "text = \"aaa bbb ccc ddd eee fff ggg hhh iii jjj kkk lll mmm nnn\""
   ]
  },
  {
   "cell_type": "code",
   "execution_count": 3,
   "id": "7b05f795-c5a2-448b-bd4c-f6b8e5dcf6d8",
   "metadata": {},
   "outputs": [
    {
     "data": {
      "text/plain": [
       "['aaa',\n",
       " 'bbb',\n",
       " 'ccc',\n",
       " 'ddd',\n",
       " 'eee',\n",
       " 'fff',\n",
       " 'ggg',\n",
       " 'hhh',\n",
       " 'iii',\n",
       " 'jjj',\n",
       " 'kkk',\n",
       " 'lll',\n",
       " 'mmm',\n",
       " 'nnn']"
      ]
     },
     "execution_count": 3,
     "metadata": {},
     "output_type": "execute_result"
    }
   ],
   "source": [
    "tokenizer = RegexpTokenizer(r'\\w+')\n",
    "words = tokenizer.tokenize(text)\n",
    "words[:50]"
   ]
  },
  {
   "cell_type": "code",
   "execution_count": 19,
   "id": "843c411a-4c43-4e08-ba07-e44e90f48577",
   "metadata": {},
   "outputs": [
    {
     "data": {
      "text/plain": [
       "{'aaa': 0,\n",
       " 'bbb': 1,\n",
       " 'ccc': 2,\n",
       " 'ddd': 3,\n",
       " 'eee': 4,\n",
       " 'fff': 5,\n",
       " 'ggg': 6,\n",
       " 'hhh': 7,\n",
       " 'iii': 8,\n",
       " 'jjj': 9,\n",
       " 'kkk': 10,\n",
       " 'lll': 11,\n",
       " 'mmm': 12,\n",
       " 'nnn': 13}"
      ]
     },
     "execution_count": 19,
     "metadata": {},
     "output_type": "execute_result"
    }
   ],
   "source": [
    "unique_words = np.unique(words)\n",
    "unique_word_index = dict((c, i) for i, c in enumerate(unique_words))\n",
    "\n",
    "unique_word_index"
   ]
  },
  {
   "cell_type": "code",
   "execution_count": 20,
   "id": "5f88dd5c-aacc-4816-b525-104dd90f98fa",
   "metadata": {},
   "outputs": [
    {
     "name": "stdout",
     "output_type": "stream",
     "text": [
      "['aaa', 'bbb', 'ccc']\n",
      "ddd\n"
     ]
    }
   ],
   "source": [
    "LENGTH_WORD = 3\n",
    "next_words = []\n",
    "prev_words = []\n",
    "for j in range(len(words) - LENGTH_WORD):\n",
    "     prev_words.append(words[j:j + LENGTH_WORD])\n",
    "     next_words.append(words[j + LENGTH_WORD])\n",
    "print(prev_words[0])\n",
    "print(next_words[0])"
   ]
  },
  {
   "cell_type": "code",
   "execution_count": 6,
   "id": "d1cf03b5-5444-4b8a-b029-bd3ea340c894",
   "metadata": {},
   "outputs": [
    {
     "data": {
      "text/plain": [
       "array([[[False, False, False, False, False, False, False, False, False,\n",
       "         False, False, False, False, False],\n",
       "        [False, False, False, False, False, False, False, False, False,\n",
       "         False, False, False, False, False],\n",
       "        [False, False, False, False, False, False, False, False, False,\n",
       "         False, False, False, False, False]],\n",
       "\n",
       "       [[False, False, False, False, False, False, False, False, False,\n",
       "         False, False, False, False, False],\n",
       "        [False, False, False, False, False, False, False, False, False,\n",
       "         False, False, False, False, False],\n",
       "        [False, False, False, False, False, False, False, False, False,\n",
       "         False, False, False, False, False]],\n",
       "\n",
       "       [[False, False, False, False, False, False, False, False, False,\n",
       "         False, False, False, False, False],\n",
       "        [False, False, False, False, False, False, False, False, False,\n",
       "         False, False, False, False, False],\n",
       "        [False, False, False, False, False, False, False, False, False,\n",
       "         False, False, False, False, False]],\n",
       "\n",
       "       [[False, False, False, False, False, False, False, False, False,\n",
       "         False, False, False, False, False],\n",
       "        [False, False, False, False, False, False, False, False, False,\n",
       "         False, False, False, False, False],\n",
       "        [False, False, False, False, False, False, False, False, False,\n",
       "         False, False, False, False, False]],\n",
       "\n",
       "       [[False, False, False, False, False, False, False, False, False,\n",
       "         False, False, False, False, False],\n",
       "        [False, False, False, False, False, False, False, False, False,\n",
       "         False, False, False, False, False],\n",
       "        [False, False, False, False, False, False, False, False, False,\n",
       "         False, False, False, False, False]],\n",
       "\n",
       "       [[False, False, False, False, False, False, False, False, False,\n",
       "         False, False, False, False, False],\n",
       "        [False, False, False, False, False, False, False, False, False,\n",
       "         False, False, False, False, False],\n",
       "        [False, False, False, False, False, False, False, False, False,\n",
       "         False, False, False, False, False]],\n",
       "\n",
       "       [[False, False, False, False, False, False, False, False, False,\n",
       "         False, False, False, False, False],\n",
       "        [False, False, False, False, False, False, False, False, False,\n",
       "         False, False, False, False, False],\n",
       "        [False, False, False, False, False, False, False, False, False,\n",
       "         False, False, False, False, False]],\n",
       "\n",
       "       [[False, False, False, False, False, False, False, False, False,\n",
       "         False, False, False, False, False],\n",
       "        [False, False, False, False, False, False, False, False, False,\n",
       "         False, False, False, False, False],\n",
       "        [False, False, False, False, False, False, False, False, False,\n",
       "         False, False, False, False, False]],\n",
       "\n",
       "       [[False, False, False, False, False, False, False, False, False,\n",
       "         False, False, False, False, False],\n",
       "        [False, False, False, False, False, False, False, False, False,\n",
       "         False, False, False, False, False],\n",
       "        [False, False, False, False, False, False, False, False, False,\n",
       "         False, False, False, False, False]],\n",
       "\n",
       "       [[False, False, False, False, False, False, False, False, False,\n",
       "         False, False, False, False, False],\n",
       "        [False, False, False, False, False, False, False, False, False,\n",
       "         False, False, False, False, False],\n",
       "        [False, False, False, False, False, False, False, False, False,\n",
       "         False, False, False, False, False]],\n",
       "\n",
       "       [[False, False, False, False, False, False, False, False, False,\n",
       "         False, False, False, False, False],\n",
       "        [False, False, False, False, False, False, False, False, False,\n",
       "         False, False, False, False, False],\n",
       "        [False, False, False, False, False, False, False, False, False,\n",
       "         False, False, False, False, False]]])"
      ]
     },
     "execution_count": 6,
     "metadata": {},
     "output_type": "execute_result"
    }
   ],
   "source": [
    "np.zeros((len(prev_words), LENGTH_WORD, len(unique_words)), dtype=bool)"
   ]
  },
  {
   "cell_type": "code",
   "execution_count": 7,
   "id": "87fae8d4-6e17-4dff-a88e-4953f181dfbf",
   "metadata": {},
   "outputs": [],
   "source": [
    "X = np.zeros((len(prev_words), LENGTH_WORD, len(unique_words)), dtype=bool)\n",
    "Y = np.zeros((len(next_words), len(unique_words)), dtype=bool)\n",
    "for i, each_words in enumerate(prev_words):\n",
    "   for j, each_word in enumerate(each_words):\n",
    "        X[i, j, unique_word_index[each_word]] = 1\n",
    "   Y[i, unique_word_index[next_words[i]]] = 1"
   ]
  },
  {
   "cell_type": "code",
   "execution_count": 21,
   "id": "5edefcfc-f804-44d6-b19d-d4a1dd9f35b0",
   "metadata": {},
   "outputs": [
    {
     "data": {
      "text/plain": [
       "array([[[ True, False, False, False, False, False, False, False, False,\n",
       "         False, False, False, False, False],\n",
       "        [False,  True, False, False, False, False, False, False, False,\n",
       "         False, False, False, False, False],\n",
       "        [False, False,  True, False, False, False, False, False, False,\n",
       "         False, False, False, False, False]],\n",
       "\n",
       "       [[False,  True, False, False, False, False, False, False, False,\n",
       "         False, False, False, False, False],\n",
       "        [False, False,  True, False, False, False, False, False, False,\n",
       "         False, False, False, False, False],\n",
       "        [False, False, False,  True, False, False, False, False, False,\n",
       "         False, False, False, False, False]],\n",
       "\n",
       "       [[False, False,  True, False, False, False, False, False, False,\n",
       "         False, False, False, False, False],\n",
       "        [False, False, False,  True, False, False, False, False, False,\n",
       "         False, False, False, False, False],\n",
       "        [False, False, False, False,  True, False, False, False, False,\n",
       "         False, False, False, False, False]],\n",
       "\n",
       "       [[False, False, False,  True, False, False, False, False, False,\n",
       "         False, False, False, False, False],\n",
       "        [False, False, False, False,  True, False, False, False, False,\n",
       "         False, False, False, False, False],\n",
       "        [False, False, False, False, False,  True, False, False, False,\n",
       "         False, False, False, False, False]],\n",
       "\n",
       "       [[False, False, False, False,  True, False, False, False, False,\n",
       "         False, False, False, False, False],\n",
       "        [False, False, False, False, False,  True, False, False, False,\n",
       "         False, False, False, False, False],\n",
       "        [False, False, False, False, False, False,  True, False, False,\n",
       "         False, False, False, False, False]],\n",
       "\n",
       "       [[False, False, False, False, False,  True, False, False, False,\n",
       "         False, False, False, False, False],\n",
       "        [False, False, False, False, False, False,  True, False, False,\n",
       "         False, False, False, False, False],\n",
       "        [False, False, False, False, False, False, False,  True, False,\n",
       "         False, False, False, False, False]],\n",
       "\n",
       "       [[False, False, False, False, False, False,  True, False, False,\n",
       "         False, False, False, False, False],\n",
       "        [False, False, False, False, False, False, False,  True, False,\n",
       "         False, False, False, False, False],\n",
       "        [False, False, False, False, False, False, False, False,  True,\n",
       "         False, False, False, False, False]],\n",
       "\n",
       "       [[False, False, False, False, False, False, False,  True, False,\n",
       "         False, False, False, False, False],\n",
       "        [False, False, False, False, False, False, False, False,  True,\n",
       "         False, False, False, False, False],\n",
       "        [False, False, False, False, False, False, False, False, False,\n",
       "          True, False, False, False, False]],\n",
       "\n",
       "       [[False, False, False, False, False, False, False, False,  True,\n",
       "         False, False, False, False, False],\n",
       "        [False, False, False, False, False, False, False, False, False,\n",
       "          True, False, False, False, False],\n",
       "        [False, False, False, False, False, False, False, False, False,\n",
       "         False,  True, False, False, False]],\n",
       "\n",
       "       [[False, False, False, False, False, False, False, False, False,\n",
       "          True, False, False, False, False],\n",
       "        [False, False, False, False, False, False, False, False, False,\n",
       "         False,  True, False, False, False],\n",
       "        [False, False, False, False, False, False, False, False, False,\n",
       "         False, False,  True, False, False]],\n",
       "\n",
       "       [[False, False, False, False, False, False, False, False, False,\n",
       "         False,  True, False, False, False],\n",
       "        [False, False, False, False, False, False, False, False, False,\n",
       "         False, False,  True, False, False],\n",
       "        [False, False, False, False, False, False, False, False, False,\n",
       "         False, False, False,  True, False]]])"
      ]
     },
     "execution_count": 21,
     "metadata": {},
     "output_type": "execute_result"
    }
   ],
   "source": [
    "X"
   ]
  },
  {
   "cell_type": "code",
   "execution_count": 22,
   "id": "35e8a006-ef26-4667-adcd-60709782757e",
   "metadata": {},
   "outputs": [
    {
     "data": {
      "text/plain": [
       "array([[False, False, False,  True, False, False, False, False, False,\n",
       "        False, False, False, False, False],\n",
       "       [False, False, False, False,  True, False, False, False, False,\n",
       "        False, False, False, False, False],\n",
       "       [False, False, False, False, False,  True, False, False, False,\n",
       "        False, False, False, False, False],\n",
       "       [False, False, False, False, False, False,  True, False, False,\n",
       "        False, False, False, False, False],\n",
       "       [False, False, False, False, False, False, False,  True, False,\n",
       "        False, False, False, False, False],\n",
       "       [False, False, False, False, False, False, False, False,  True,\n",
       "        False, False, False, False, False],\n",
       "       [False, False, False, False, False, False, False, False, False,\n",
       "         True, False, False, False, False],\n",
       "       [False, False, False, False, False, False, False, False, False,\n",
       "        False,  True, False, False, False],\n",
       "       [False, False, False, False, False, False, False, False, False,\n",
       "        False, False,  True, False, False],\n",
       "       [False, False, False, False, False, False, False, False, False,\n",
       "        False, False, False,  True, False],\n",
       "       [False, False, False, False, False, False, False, False, False,\n",
       "        False, False, False, False,  True]])"
      ]
     },
     "execution_count": 22,
     "metadata": {},
     "output_type": "execute_result"
    }
   ],
   "source": [
    "Y"
   ]
  },
  {
   "cell_type": "code",
   "execution_count": 8,
   "id": "586a77bf-fba9-4480-899b-4dcbfa98b8f8",
   "metadata": {},
   "outputs": [],
   "source": [
    "model = Sequential()\n",
    "model.add(LSTM(128, input_shape=(LENGTH_WORD, len(unique_words))))\n",
    "model.add(Dense(len(unique_words)))\n",
    "model.add(Activation('softmax'))"
   ]
  },
  {
   "cell_type": "code",
   "execution_count": 24,
   "id": "942b912a-89cb-48e6-9b43-1fe85d67fcc4",
   "metadata": {},
   "outputs": [
    {
     "name": "stdout",
     "output_type": "stream",
     "text": [
      "Epoch 1/2\n",
      "1/1 [==============================] - 1s 1s/step - loss: 0.2717 - accuracy: 0.9000 - val_loss: 9.1774 - val_accuracy: 0.0000e+00\n",
      "Epoch 2/2\n",
      "1/1 [==============================] - 0s 22ms/step - loss: 0.6162 - accuracy: 0.7000 - val_loss: 7.5129 - val_accuracy: 0.0000e+00\n"
     ]
    }
   ],
   "source": [
    "optimizer = RMSprop(learning_rate=0.01)\n",
    "model.compile(loss='categorical_crossentropy', optimizer=optimizer, metrics=['accuracy'])\n",
    "history = model.fit(X, Y, validation_split=0.05, batch_size=128, epochs=2, shuffle=True).history"
   ]
  },
  {
   "cell_type": "code",
   "execution_count": 10,
   "id": "7991bd0c-07b6-420e-bef7-c298cda6d835",
   "metadata": {},
   "outputs": [],
   "source": [
    "model.save('next_word_model.h5')\n",
    "pickle.dump(history, open(\"history.p\", \"wb\"))\n",
    "model = load_model('next_word_model.h5')\n",
    "history = pickle.load(open(\"history.p\", \"rb\"))"
   ]
  },
  {
   "cell_type": "code",
   "execution_count": 11,
   "id": "5a22d111-fcdb-4e5c-881d-51765c856384",
   "metadata": {},
   "outputs": [
    {
     "data": {
      "text/plain": [
       "<matplotlib.legend.Legend at 0x26399533130>"
      ]
     },
     "execution_count": 11,
     "metadata": {},
     "output_type": "execute_result"
    },
    {
     "data": {
      "image/png": "[encoded data removed]",
      "text/plain": [
       "<Figure size 432x288 with 1 Axes>"
      ]
     },
     "metadata": {
      "needs_background": "light"
     },
     "output_type": "display_data"
    }
   ],
   "source": [
    "plt.plot(history['accuracy'])\n",
    "plt.plot(history['val_accuracy'])\n",
    "plt.title('model accuracy')\n",
    "plt.ylabel('accuracy')\n",
    "plt.xlabel('epoch')\n",
    "plt.legend(['train', 'test'], loc='upper left')"
   ]
  },
  {
   "cell_type": "code",
   "execution_count": 12,
   "id": "87530972-2ab8-45d2-b478-7458e7362516",
   "metadata": {},
   "outputs": [
    {
     "data": {
      "text/plain": [
       "<matplotlib.legend.Legend at 0x267507e5fa0>"
      ]
     },
     "execution_count": 12,
     "metadata": {},
     "output_type": "execute_result"
    },
    {
     "data": {
      "image/png": "[encoded data removed]",
      "text/plain": [
       "<Figure size 432x288 with 1 Axes>"
      ]
     },
     "metadata": {
      "needs_background": "light"
     },
     "output_type": "display_data"
    }
   ],
   "source": [
    "plt.plot(history['loss'])\n",
    "plt.plot(history['val_loss'])\n",
    "plt.title('model loss')\n",
    "plt.ylabel('loss')\n",
    "plt.xlabel('epoch')\n",
    "plt.legend(['train', 'test'], loc='upper left')"
   ]
  },
  {
   "cell_type": "code",
   "execution_count": null,
   "id": "bcd5ac6d-b850-4aa9-85bc-d435dd85dd7e",
   "metadata": {},
   "outputs": [],
   "source": []
  },
  {
   "cell_type": "code",
   "execution_count": 13,
   "id": "1320a11a-090c-45d5-bc99-90973eca0667",
   "metadata": {},
   "outputs": [
    {
     "data": {
      "text/plain": [
       "array([[[0., 0., 0., 0., 0., 0., 0., 0., 0., 0., 0., 0., 0., 0.],\n",
       "        [0., 0., 0., 0., 0., 0., 0., 0., 0., 0., 0., 0., 0., 0.],\n",
       "        [0., 0., 0., 0., 0., 0., 0., 0., 0., 0., 0., 0., 0., 0.]]])"
      ]
     },
     "execution_count": 13,
     "metadata": {},
     "output_type": "execute_result"
    }
   ],
   "source": [
    "def prepare_input(text):\n",
    "    x = np.zeros((1, LENGTH_WORD, len(unique_words)))\n",
    "    for t, word in enumerate(tokenizer.tokenize(text)[:LENGTH_WORD]):\n",
    "#         print(word, t)\n",
    "        if unique_word_index.get(word) != None:\n",
    "            x[0, t, unique_word_index[word]] = 1\n",
    "    return x\n",
    "prepare_input(\"It is not a lack\".lower())"
   ]
  },
  {
   "cell_type": "code",
   "execution_count": 14,
   "id": "09b58568-d771-4207-ac07-9d1afa6351bf",
   "metadata": {},
   "outputs": [
    {
     "data": {
      "text/plain": [
       "array([[[0., 0., 0.],\n",
       "        [0., 0., 0.],\n",
       "        [0., 0., 0.],\n",
       "        [0., 0., 0.],\n",
       "        [0., 0., 0.]]])"
      ]
     },
     "execution_count": 14,
     "metadata": {},
     "output_type": "execute_result"
    }
   ],
   "source": [
    "np.zeros((1, 5, 3))"
   ]
  },
  {
   "cell_type": "code",
   "execution_count": 15,
   "id": "322328c7-36b1-49fd-82cc-446e2e234adf",
   "metadata": {},
   "outputs": [],
   "source": [
    "def sample(preds, top_n=3):\n",
    "   preds = np.asarray(preds).astype('float64')\n",
    "   preds = np.log(preds)\n",
    "   exp_preds = np.exp(preds)\n",
    "   preds = exp_preds / np.sum(exp_preds)\n",
    "   return heapq.nlargest(top_n, range(len(preds)), preds.take)"
   ]
  },
  {
   "cell_type": "code",
   "execution_count": 16,
   "id": "a1acd927-1351-4d61-9903-fc5e02c00ace",
   "metadata": {},
   "outputs": [],
   "source": [
    "def predict_completions(text, n=3):\n",
    "    print(f\"text: {text}\")\n",
    "    x = prepare_input(text)\n",
    "\n",
    "    preds = model.predict(x, verbose=0)[0]\n",
    "    \n",
    "#     print(f\"preds: {preds}\")\n",
    "\n",
    "    next_indices = sample(preds, n)\n",
    "    \n",
    "#     print(f\"next_indices: {next_indices}\")\n",
    "\n",
    "    next_tokens = tokenizer.tokenize(text)[1:]\n",
    "\n",
    "    print(f\"next_tokens: {next_tokens}\")\n",
    "\n",
    "    return [unique_words[idx] for idx in next_indices]"
   ]
  },
  {
   "cell_type": "code",
   "execution_count": 17,
   "id": "26bd6255-547d-4ccd-af80-83772d485250",
   "metadata": {},
   "outputs": [],
   "source": [
    "# quotes = [\n",
    "#     \"It is not a lack of love, but a lack of friendship that makes unhappy marriages.\",\n",
    "#     \"That which does not kill us makes us stronger.\",\n",
    "#     \"I'm not upset that you lied to me, I'm upset that from now on I can't believe you.\",\n",
    "#     \"And those who were seen dancing were thought to be insane by those who could not hear the music.\",\n",
    "#     \"It is hard enough to remember my opinions, without also remembering my reasons for them!\"\n",
    "# ]\n",
    "\n",
    "quotes = [\n",
    "    \"aaa bbb ccc ddd eeee\",\n",
    "    \"hhh iii jjj kkk lll mmm\",\n",
    "    \"aaa bbb ccc ddd xxx\"\n",
    "]"
   ]
  },
  {
   "cell_type": "code",
   "execution_count": 18,
   "id": "4d5e3169-8ab0-4f31-bda8-7161b0e09cc3",
   "metadata": {},
   "outputs": [
    {
     "name": "stdout",
     "output_type": "stream",
     "text": [
      "aaa bbb ccc ddd eeee\n",
      "text: aaa bbb ccc ddd eeee\n",
      "next_tokens: ['bbb', 'ccc', 'ddd', 'eeee']\n",
      "['ddd', 'eee', 'fff', 'iii', 'ggg']\n",
      "\n",
      "hhh iii jjj kkk lll mmm\n",
      "text: hhh iii jjj kkk lll mmm\n",
      "next_tokens: ['iii', 'jjj', 'kkk', 'lll', 'mmm']\n",
      "['kkk', 'lll', 'jjj', 'mmm', 'iii']\n",
      "\n",
      "aaa bbb ccc ddd xxx\n",
      "text: aaa bbb ccc ddd xxx\n",
      "next_tokens: ['bbb', 'ccc', 'ddd', 'xxx']\n",
      "['ddd', 'eee', 'fff', 'iii', 'ggg']\n",
      "\n"
     ]
    }
   ],
   "source": [
    "for q in quotes:\n",
    "    seq = q[:40].lower()\n",
    "    print(seq)\n",
    "    print(predict_completions(seq, 5))\n",
    "    print()"
   ]
  },
  {
   "cell_type": "code",
   "execution_count": null,
   "id": "c757641a-96fc-440d-9a3b-c50854ea44a9",
   "metadata": {},
   "outputs": [],
   "source": []
  }
 ],
 "metadata": {
  "kernelspec": {
   "display_name": "Python 3",
   "language": "python",
   "name": "python3"
  },
  "language_info": {
   "codemirror_mode": {
    "name": "ipython",
    "version": 3
   },
   "file_extension": ".py",
   "mimetype": "text/x-python",
   "name": "python",
   "nbconvert_exporter": "python",
   "pygments_lexer": "ipython3",
   "version": "3.8.8"
  }
 },
 "nbformat": 4,
 "nbformat_minor": 5
}
