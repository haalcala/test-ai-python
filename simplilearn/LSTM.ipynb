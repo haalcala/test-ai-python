{
 "cells": [
  {
   "cell_type": "code",
   "execution_count": 1,
   "id": "ef08247d-d4b4-4ff2-bb15-fd8be75f2d98",
   "metadata": {},
   "outputs": [],
   "source": [
    "import numpy as np\n",
    "\n",
    "import heapq\n",
    "\n",
    "import matplotlib.pyplot as plt\n",
    "\n",
    "from nltk.tokenize import RegexpTokenizer\n",
    "\n",
    "from keras.models import Sequential, load_model\n",
    "\n",
    "from keras.layers.core import Dense, Activation\n",
    "\n",
    "from keras.layers import LSTM\n",
    "\n",
    "import pickle\n",
    "\n",
    "from tensorflow.keras.optimizers import RMSprop"
   ]
  },
  {
   "cell_type": "code",
   "execution_count": 2,
   "id": "04678b9a-9a76-422a-9b17-07994d5d3b43",
   "metadata": {},
   "outputs": [],
   "source": [
    "# path = './data.txt'\n",
    "# text = open(path,'r', encoding=\"utf8\").read().lower()\n",
    "# print('length of the corpus is: :', len(text))\n",
    "# text[:100]\n",
    "\n",
    "text = \"aaa bbb ccc ddd eee fff ggg hhh iii jjj kkk lll mmm nnn ooo ppp qqq rrr sss ttt uuu vvv www xxx yyy zzz\"\n",
    "text = \"aaa bbb ccc ddd eee fff ggg hhh iii jjj kkk lll mmm nnn\""
   ]
  },
  {
   "cell_type": "code",
   "execution_count": 3,
   "id": "7b05f795-c5a2-448b-bd4c-f6b8e5dcf6d8",
   "metadata": {},
   "outputs": [
    {
     "data": {
      "text/plain": [
       "['aaa',\n",
       " 'bbb',\n",
       " 'ccc',\n",
       " 'ddd',\n",
       " 'eee',\n",
       " 'fff',\n",
       " 'ggg',\n",
       " 'hhh',\n",
       " 'iii',\n",
       " 'jjj',\n",
       " 'kkk',\n",
       " 'lll',\n",
       " 'mmm',\n",
       " 'nnn']"
      ]
     },
     "execution_count": 3,
     "metadata": {},
     "output_type": "execute_result"
    }
   ],
   "source": [
    "tokenizer = RegexpTokenizer(r'\\w+')\n",
    "words = tokenizer.tokenize(text)\n",
    "words[:50]"
   ]
  },
  {
   "cell_type": "code",
   "execution_count": 19,
   "id": "843c411a-4c43-4e08-ba07-e44e90f48577",
   "metadata": {},
   "outputs": [
    {
     "data": {
      "text/plain": [
       "{'aaa': 0,\n",
       " 'bbb': 1,\n",
       " 'ccc': 2,\n",
       " 'ddd': 3,\n",
       " 'eee': 4,\n",
       " 'fff': 5,\n",
       " 'ggg': 6,\n",
       " 'hhh': 7,\n",
       " 'iii': 8,\n",
       " 'jjj': 9,\n",
       " 'kkk': 10,\n",
       " 'lll': 11,\n",
       " 'mmm': 12,\n",
       " 'nnn': 13}"
      ]
     },
     "execution_count": 19,
     "metadata": {},
     "output_type": "execute_result"
    }
   ],
   "source": [
    "unique_words = np.unique(words)\n",
    "unique_word_index = dict((c, i) for i, c in enumerate(unique_words))\n",
    "\n",
    "unique_word_index"
   ]
  },
  {
   "cell_type": "code",
   "execution_count": 20,
   "id": "5f88dd5c-aacc-4816-b525-104dd90f98fa",
   "metadata": {},
   "outputs": [
    {
     "name": "stdout",
     "output_type": "stream",
     "text": [
      "['aaa', 'bbb', 'ccc']\n",
      "ddd\n"
     ]
    }
   ],
   "source": [
    "LENGTH_WORD = 3\n",
    "next_words = []\n",
    "prev_words = []\n",
    "for j in range(len(words) - LENGTH_WORD):\n",
    "     prev_words.append(words[j:j + LENGTH_WORD])\n",
    "     next_words.append(words[j + LENGTH_WORD])\n",
    "print(prev_words[0])\n",
    "print(next_words[0])"
   ]
  },
  {
   "cell_type": "code",
   "execution_count": 6,
   "id": "d1cf03b5-5444-4b8a-b029-bd3ea340c894",
   "metadata": {},
   "outputs": [
    {
     "data": {
      "text/plain": [
       "array([[[False, False, False, False, False, False, False, False, False,\n",
       "         False, False, False, False, False],\n",
       "        [False, False, False, False, False, False, False, False, False,\n",
       "         False, False, False, False, False],\n",
       "        [False, False, False, False, False, False, False, False, False,\n",
       "         False, False, False, False, False]],\n",
       "\n",
       "       [[False, False, False, False, False, False, False, False, False,\n",
       "         False, False, False, False, False],\n",
       "        [False, False, False, False, False, False, False, False, False,\n",
       "         False, False, False, False, False],\n",
       "        [False, False, False, False, False, False, False, False, False,\n",
       "         False, False, False, False, False]],\n",
       "\n",
       "       [[False, False, False, False, False, False, False, False, False,\n",
       "         False, False, False, False, False],\n",
       "        [False, False, False, False, False, False, False, False, False,\n",
       "         False, False, False, False, False],\n",
       "        [False, False, False, False, False, False, False, False, False,\n",
       "         False, False, False, False, False]],\n",
       "\n",
       "       [[False, False, False, False, False, False, False, False, False,\n",
       "         False, False, False, False, False],\n",
       "        [False, False, False, False, False, False, False, False, False,\n",
       "         False, False, False, False, False],\n",
       "        [False, False, False, False, False, False, False, False, False,\n",
       "         False, False, False, False, False]],\n",
       "\n",
       "       [[False, False, False, False, False, False, False, False, False,\n",
       "         False, False, False, False, False],\n",
       "        [False, False, False, False, False, False, False, False, False,\n",
       "         False, False, False, False, False],\n",
       "        [False, False, False, False, False, False, False, False, False,\n",
       "         False, False, False, False, False]],\n",
       "\n",
       "       [[False, False, False, False, False, False, False, False, False,\n",
       "         False, False, False, False, False],\n",
       "        [False, False, False, False, False, False, False, False, False,\n",
       "         False, False, False, False, False],\n",
       "        [False, False, False, False, False, False, False, False, False,\n",
       "         False, False, False, False, False]],\n",
       "\n",
       "       [[False, False, False, False, False, False, False, False, False,\n",
       "         False, False, False, False, False],\n",
       "        [False, False, False, False, False, False, False, False, False,\n",
       "         False, False, False, False, False],\n",
       "        [False, False, False, False, False, False, False, False, False,\n",
       "         False, False, False, False, False]],\n",
       "\n",
       "       [[False, False, False, False, False, False, False, False, False,\n",
       "         False, False, False, False, False],\n",
       "        [False, False, False, False, False, False, False, False, False,\n",
       "         False, False, False, False, False],\n",
       "        [False, False, False, False, False, False, False, False, False,\n",
       "         False, False, False, False, False]],\n",
       "\n",
       "       [[False, False, False, False, False, False, False, False, False,\n",
       "         False, False, False, False, False],\n",
       "        [False, False, False, False, False, False, False, False, False,\n",
       "         False, False, False, False, False],\n",
       "        [False, False, False, False, False, False, False, False, False,\n",
       "         False, False, False, False, False]],\n",
       "\n",
       "       [[False, False, False, False, False, False, False, False, False,\n",
       "         False, False, False, False, False],\n",
       "        [False, False, False, False, False, False, False, False, False,\n",
       "         False, False, False, False, False],\n",
       "        [False, False, False, False, False, False, False, False, False,\n",
       "         False, False, False, False, False]],\n",
       "\n",
       "       [[False, False, False, False, False, False, False, False, False,\n",
       "         False, False, False, False, False],\n",
       "        [False, False, False, False, False, False, False, False, False,\n",
       "         False, False, False, False, False],\n",
       "        [False, False, False, False, False, False, False, False, False,\n",
       "         False, False, False, False, False]]])"
      ]
     },
     "execution_count": 6,
     "metadata": {},
     "output_type": "execute_result"
    }
   ],
   "source": [
    "np.zeros((len(prev_words), LENGTH_WORD, len(unique_words)), dtype=bool)"
   ]
  },
  {
   "cell_type": "code",
   "execution_count": 110,
   "id": "87fae8d4-6e17-4dff-a88e-4953f181dfbf",
   "metadata": {},
   "outputs": [
    {
     "name": "stdout",
     "output_type": "stream",
     "text": [
      "111 each_words: ['aaa', 'bbb', 'ccc'] 0\n",
      "\t222 each_word: aaa unique_word_index[each_word] 0\n",
      "\t222 each_word: bbb unique_word_index[each_word] 1\n",
      "\t222 each_word: ccc unique_word_index[each_word] 2\n",
      "next_words[i] ddd, unique_word_index[next_words[i]] 3\n",
      "111 --- [[ True False False False False False False False False False False False\n",
      "  False False]\n",
      " [False  True False False False False False False False False False False\n",
      "  False False]\n",
      " [False False  True False False False False False False False False False\n",
      "  False False]]\n",
      "222 --- [False False False  True False False False False False False False False\n",
      " False False]\n",
      "111 each_words: ['bbb', 'ccc', 'ddd'] 1\n",
      "\t222 each_word: bbb unique_word_index[each_word] 1\n",
      "\t222 each_word: ccc unique_word_index[each_word] 2\n",
      "\t222 each_word: ddd unique_word_index[each_word] 3\n",
      "next_words[i] eee, unique_word_index[next_words[i]] 4\n",
      "111 --- [[False  True False False False False False False False False False False\n",
      "  False False]\n",
      " [False False  True False False False False False False False False False\n",
      "  False False]\n",
      " [False False False  True False False False False False False False False\n",
      "  False False]]\n",
      "222 --- [False False False False  True False False False False False False False\n",
      " False False]\n",
      "111 each_words: ['ccc', 'ddd', 'eee'] 2\n",
      "\t222 each_word: ccc unique_word_index[each_word] 2\n",
      "\t222 each_word: ddd unique_word_index[each_word] 3\n",
      "\t222 each_word: eee unique_word_index[each_word] 4\n",
      "next_words[i] fff, unique_word_index[next_words[i]] 5\n",
      "111 --- [[False False  True False False False False False False False False False\n",
      "  False False]\n",
      " [False False False  True False False False False False False False False\n",
      "  False False]\n",
      " [False False False False  True False False False False False False False\n",
      "  False False]]\n",
      "222 --- [False False False False False  True False False False False False False\n",
      " False False]\n",
      "111 each_words: ['ddd', 'eee', 'fff'] 3\n",
      "\t222 each_word: ddd unique_word_index[each_word] 3\n",
      "\t222 each_word: eee unique_word_index[each_word] 4\n",
      "\t222 each_word: fff unique_word_index[each_word] 5\n",
      "next_words[i] ggg, unique_word_index[next_words[i]] 6\n",
      "111 --- [[False False False  True False False False False False False False False\n",
      "  False False]\n",
      " [False False False False  True False False False False False False False\n",
      "  False False]\n",
      " [False False False False False  True False False False False False False\n",
      "  False False]]\n",
      "222 --- [False False False False False False  True False False False False False\n",
      " False False]\n",
      "111 each_words: ['eee', 'fff', 'ggg'] 4\n",
      "\t222 each_word: eee unique_word_index[each_word] 4\n",
      "\t222 each_word: fff unique_word_index[each_word] 5\n",
      "\t222 each_word: ggg unique_word_index[each_word] 6\n",
      "next_words[i] hhh, unique_word_index[next_words[i]] 7\n",
      "111 --- [[False False False False  True False False False False False False False\n",
      "  False False]\n",
      " [False False False False False  True False False False False False False\n",
      "  False False]\n",
      " [False False False False False False  True False False False False False\n",
      "  False False]]\n",
      "222 --- [False False False False False False False  True False False False False\n",
      " False False]\n",
      "111 each_words: ['fff', 'ggg', 'hhh'] 5\n",
      "\t222 each_word: fff unique_word_index[each_word] 5\n",
      "\t222 each_word: ggg unique_word_index[each_word] 6\n",
      "\t222 each_word: hhh unique_word_index[each_word] 7\n",
      "next_words[i] iii, unique_word_index[next_words[i]] 8\n",
      "111 --- [[False False False False False  True False False False False False False\n",
      "  False False]\n",
      " [False False False False False False  True False False False False False\n",
      "  False False]\n",
      " [False False False False False False False  True False False False False\n",
      "  False False]]\n",
      "222 --- [False False False False False False False False  True False False False\n",
      " False False]\n",
      "111 each_words: ['ggg', 'hhh', 'iii'] 6\n",
      "\t222 each_word: ggg unique_word_index[each_word] 6\n",
      "\t222 each_word: hhh unique_word_index[each_word] 7\n",
      "\t222 each_word: iii unique_word_index[each_word] 8\n",
      "next_words[i] jjj, unique_word_index[next_words[i]] 9\n",
      "111 --- [[False False False False False False  True False False False False False\n",
      "  False False]\n",
      " [False False False False False False False  True False False False False\n",
      "  False False]\n",
      " [False False False False False False False False  True False False False\n",
      "  False False]]\n",
      "222 --- [False False False False False False False False False  True False False\n",
      " False False]\n",
      "111 each_words: ['hhh', 'iii', 'jjj'] 7\n",
      "\t222 each_word: hhh unique_word_index[each_word] 7\n",
      "\t222 each_word: iii unique_word_index[each_word] 8\n",
      "\t222 each_word: jjj unique_word_index[each_word] 9\n",
      "next_words[i] kkk, unique_word_index[next_words[i]] 10\n",
      "111 --- [[False False False False False False False  True False False False False\n",
      "  False False]\n",
      " [False False False False False False False False  True False False False\n",
      "  False False]\n",
      " [False False False False False False False False False  True False False\n",
      "  False False]]\n",
      "222 --- [False False False False False False False False False False  True False\n",
      " False False]\n",
      "111 each_words: ['iii', 'jjj', 'kkk'] 8\n",
      "\t222 each_word: iii unique_word_index[each_word] 8\n",
      "\t222 each_word: jjj unique_word_index[each_word] 9\n",
      "\t222 each_word: kkk unique_word_index[each_word] 10\n",
      "next_words[i] lll, unique_word_index[next_words[i]] 11\n",
      "111 --- [[False False False False False False False False  True False False False\n",
      "  False False]\n",
      " [False False False False False False False False False  True False False\n",
      "  False False]\n",
      " [False False False False False False False False False False  True False\n",
      "  False False]]\n",
      "222 --- [False False False False False False False False False False False  True\n",
      " False False]\n",
      "111 each_words: ['jjj', 'kkk', 'lll'] 9\n",
      "\t222 each_word: jjj unique_word_index[each_word] 9\n",
      "\t222 each_word: kkk unique_word_index[each_word] 10\n",
      "\t222 each_word: lll unique_word_index[each_word] 11\n",
      "next_words[i] mmm, unique_word_index[next_words[i]] 12\n",
      "111 --- [[False False False False False False False False False  True False False\n",
      "  False False]\n",
      " [False False False False False False False False False False  True False\n",
      "  False False]\n",
      " [False False False False False False False False False False False  True\n",
      "  False False]]\n",
      "222 --- [False False False False False False False False False False False False\n",
      "  True False]\n",
      "111 each_words: ['kkk', 'lll', 'mmm'] 10\n",
      "\t222 each_word: kkk unique_word_index[each_word] 10\n",
      "\t222 each_word: lll unique_word_index[each_word] 11\n",
      "\t222 each_word: mmm unique_word_index[each_word] 12\n",
      "next_words[i] nnn, unique_word_index[next_words[i]] 13\n",
      "111 --- [[False False False False False False False False False False  True False\n",
      "  False False]\n",
      " [False False False False False False False False False False False  True\n",
      "  False False]\n",
      " [False False False False False False False False False False False False\n",
      "   True False]]\n",
      "222 --- [False False False False False False False False False False False False\n",
      " False  True]\n"
     ]
    }
   ],
   "source": [
    "X = np.zeros((len(prev_words), LENGTH_WORD, len(unique_words)), dtype=bool)\n",
    "Y = np.zeros((len(next_words), len(unique_words)), dtype=bool)\n",
    "\n",
    "for i, each_words in enumerate(prev_words):\n",
    "    print(f\"111 each_words: {each_words} {i}\")\n",
    "    for j, each_word in enumerate(each_words):\n",
    "        print(f\"\\t222 each_word: {each_word} unique_word_index[each_word] {unique_word_index[each_word]}\")\n",
    "        X[i, j, unique_word_index[each_word]] = 1\n",
    "    print(f\"next_words[i] {next_words[i]}, unique_word_index[next_words[i]] {unique_word_index[next_words[i]]}\")\n",
    "#     Y[i, unique_word_index[next_words[i]]] = 1\n",
    "    Y[i] = unique_words == next_words[i]\n",
    "    \n",
    "#     print(unique_words == next_words[i])\n",
    "    print(\"111 ---\", X[i])\n",
    "    print(\"222 ---\", Y[i])\n"
   ]
  },
  {
   "cell_type": "code",
   "execution_count": 111,
   "id": "5edefcfc-f804-44d6-b19d-d4a1dd9f35b0",
   "metadata": {},
   "outputs": [
    {
     "data": {
      "text/plain": [
       "array([[[ True, False, False, False, False, False, False, False, False,\n",
       "         False, False, False, False, False],\n",
       "        [False,  True, False, False, False, False, False, False, False,\n",
       "         False, False, False, False, False],\n",
       "        [False, False,  True, False, False, False, False, False, False,\n",
       "         False, False, False, False, False]],\n",
       "\n",
       "       [[False,  True, False, False, False, False, False, False, False,\n",
       "         False, False, False, False, False],\n",
       "        [False, False,  True, False, False, False, False, False, False,\n",
       "         False, False, False, False, False],\n",
       "        [False, False, False,  True, False, False, False, False, False,\n",
       "         False, False, False, False, False]],\n",
       "\n",
       "       [[False, False,  True, False, False, False, False, False, False,\n",
       "         False, False, False, False, False],\n",
       "        [False, False, False,  True, False, False, False, False, False,\n",
       "         False, False, False, False, False],\n",
       "        [False, False, False, False,  True, False, False, False, False,\n",
       "         False, False, False, False, False]],\n",
       "\n",
       "       [[False, False, False,  True, False, False, False, False, False,\n",
       "         False, False, False, False, False],\n",
       "        [False, False, False, False,  True, False, False, False, False,\n",
       "         False, False, False, False, False],\n",
       "        [False, False, False, False, False,  True, False, False, False,\n",
       "         False, False, False, False, False]],\n",
       "\n",
       "       [[False, False, False, False,  True, False, False, False, False,\n",
       "         False, False, False, False, False],\n",
       "        [False, False, False, False, False,  True, False, False, False,\n",
       "         False, False, False, False, False],\n",
       "        [False, False, False, False, False, False,  True, False, False,\n",
       "         False, False, False, False, False]],\n",
       "\n",
       "       [[False, False, False, False, False,  True, False, False, False,\n",
       "         False, False, False, False, False],\n",
       "        [False, False, False, False, False, False,  True, False, False,\n",
       "         False, False, False, False, False],\n",
       "        [False, False, False, False, False, False, False,  True, False,\n",
       "         False, False, False, False, False]],\n",
       "\n",
       "       [[False, False, False, False, False, False,  True, False, False,\n",
       "         False, False, False, False, False],\n",
       "        [False, False, False, False, False, False, False,  True, False,\n",
       "         False, False, False, False, False],\n",
       "        [False, False, False, False, False, False, False, False,  True,\n",
       "         False, False, False, False, False]],\n",
       "\n",
       "       [[False, False, False, False, False, False, False,  True, False,\n",
       "         False, False, False, False, False],\n",
       "        [False, False, False, False, False, False, False, False,  True,\n",
       "         False, False, False, False, False],\n",
       "        [False, False, False, False, False, False, False, False, False,\n",
       "          True, False, False, False, False]],\n",
       "\n",
       "       [[False, False, False, False, False, False, False, False,  True,\n",
       "         False, False, False, False, False],\n",
       "        [False, False, False, False, False, False, False, False, False,\n",
       "          True, False, False, False, False],\n",
       "        [False, False, False, False, False, False, False, False, False,\n",
       "         False,  True, False, False, False]],\n",
       "\n",
       "       [[False, False, False, False, False, False, False, False, False,\n",
       "          True, False, False, False, False],\n",
       "        [False, False, False, False, False, False, False, False, False,\n",
       "         False,  True, False, False, False],\n",
       "        [False, False, False, False, False, False, False, False, False,\n",
       "         False, False,  True, False, False]],\n",
       "\n",
       "       [[False, False, False, False, False, False, False, False, False,\n",
       "         False,  True, False, False, False],\n",
       "        [False, False, False, False, False, False, False, False, False,\n",
       "         False, False,  True, False, False],\n",
       "        [False, False, False, False, False, False, False, False, False,\n",
       "         False, False, False,  True, False]]])"
      ]
     },
     "execution_count": 111,
     "metadata": {},
     "output_type": "execute_result"
    }
   ],
   "source": [
    "X"
   ]
  },
  {
   "cell_type": "code",
   "execution_count": 112,
   "id": "35e8a006-ef26-4667-adcd-60709782757e",
   "metadata": {},
   "outputs": [
    {
     "data": {
      "text/plain": [
       "array([[False, False, False,  True, False, False, False, False, False,\n",
       "        False, False, False, False, False],\n",
       "       [False, False, False, False,  True, False, False, False, False,\n",
       "        False, False, False, False, False],\n",
       "       [False, False, False, False, False,  True, False, False, False,\n",
       "        False, False, False, False, False],\n",
       "       [False, False, False, False, False, False,  True, False, False,\n",
       "        False, False, False, False, False],\n",
       "       [False, False, False, False, False, False, False,  True, False,\n",
       "        False, False, False, False, False],\n",
       "       [False, False, False, False, False, False, False, False,  True,\n",
       "        False, False, False, False, False],\n",
       "       [False, False, False, False, False, False, False, False, False,\n",
       "         True, False, False, False, False],\n",
       "       [False, False, False, False, False, False, False, False, False,\n",
       "        False,  True, False, False, False],\n",
       "       [False, False, False, False, False, False, False, False, False,\n",
       "        False, False,  True, False, False],\n",
       "       [False, False, False, False, False, False, False, False, False,\n",
       "        False, False, False,  True, False],\n",
       "       [False, False, False, False, False, False, False, False, False,\n",
       "        False, False, False, False,  True]])"
      ]
     },
     "execution_count": 112,
     "metadata": {},
     "output_type": "execute_result"
    }
   ],
   "source": [
    "Y"
   ]
  },
  {
   "cell_type": "code",
   "execution_count": 25,
   "id": "586a77bf-fba9-4480-899b-4dcbfa98b8f8",
   "metadata": {},
   "outputs": [
    {
     "data": {
      "text/plain": [
       "<keras.engine.sequential.Sequential at 0x2677be8b9a0>"
      ]
     },
     "execution_count": 25,
     "metadata": {},
     "output_type": "execute_result"
    }
   ],
   "source": [
    "model = Sequential()\n",
    "model.add(LSTM(128, input_shape=(LENGTH_WORD, len(unique_words))))\n",
    "model.add(Dense(len(unique_words)))\n",
    "model.add(Activation('softmax'))\n",
    "\n",
    "model"
   ]
  },
  {
   "cell_type": "code",
   "execution_count": 41,
   "id": "942b912a-89cb-48e6-9b43-1fe85d67fcc4",
   "metadata": {},
   "outputs": [
    {
     "name": "stdout",
     "output_type": "stream",
     "text": [
      "Epoch 1/10\n",
      "1/1 [==============================] - 2s 2s/step - loss: 0.0190 - accuracy: 1.0000 - val_loss: 7.0954 - val_accuracy: 0.0000e+00\n",
      "Epoch 2/10\n",
      "1/1 [==============================] - 0s 21ms/step - loss: 0.0122 - accuracy: 1.0000 - val_loss: 7.4034 - val_accuracy: 0.0000e+00\n",
      "Epoch 3/10\n",
      "1/1 [==============================] - 0s 24ms/step - loss: 0.0094 - accuracy: 1.0000 - val_loss: 7.6359 - val_accuracy: 0.0000e+00\n",
      "Epoch 4/10\n",
      "1/1 [==============================] - 0s 22ms/step - loss: 0.0077 - accuracy: 1.0000 - val_loss: 7.8250 - val_accuracy: 0.0000e+00\n",
      "Epoch 5/10\n",
      "1/1 [==============================] - 0s 22ms/step - loss: 0.0065 - accuracy: 1.0000 - val_loss: 7.9844 - val_accuracy: 0.0000e+00\n",
      "Epoch 6/10\n",
      "1/1 [==============================] - 0s 24ms/step - loss: 0.0056 - accuracy: 1.0000 - val_loss: 8.1258 - val_accuracy: 0.0000e+00\n",
      "Epoch 7/10\n",
      "1/1 [==============================] - 0s 23ms/step - loss: 0.0049 - accuracy: 1.0000 - val_loss: 8.2524 - val_accuracy: 0.0000e+00\n",
      "Epoch 8/10\n",
      "1/1 [==============================] - 0s 21ms/step - loss: 0.0044 - accuracy: 1.0000 - val_loss: 8.3685 - val_accuracy: 0.0000e+00\n",
      "Epoch 9/10\n",
      "1/1 [==============================] - 0s 22ms/step - loss: 0.0039 - accuracy: 1.0000 - val_loss: 8.4758 - val_accuracy: 0.0000e+00\n",
      "Epoch 10/10\n",
      "1/1 [==============================] - 0s 23ms/step - loss: 0.0035 - accuracy: 1.0000 - val_loss: 8.5761 - val_accuracy: 0.0000e+00\n"
     ]
    }
   ],
   "source": [
    "optimizer = RMSprop(learning_rate=0.001)\n",
    "model.compile(loss='categorical_crossentropy', optimizer=optimizer, metrics=['accuracy'])\n",
    "history = model.fit(X, Y, validation_split=0.05, batch_size=128, epochs=10, shuffle=True).history"
   ]
  },
  {
   "cell_type": "code",
   "execution_count": 42,
   "id": "7991bd0c-07b6-420e-bef7-c298cda6d835",
   "metadata": {},
   "outputs": [],
   "source": [
    "model.save('next_word_model.h5')\n",
    "pickle.dump(history, open(\"history.p\", \"wb\"))\n",
    "model = load_model('next_word_model.h5')\n",
    "history = pickle.load(open(\"history.p\", \"rb\"))"
   ]
  },
  {
   "cell_type": "code",
   "execution_count": 43,
   "id": "5a22d111-fcdb-4e5c-881d-51765c856384",
   "metadata": {},
   "outputs": [
    {
     "data": {
      "text/plain": [
       "<matplotlib.legend.Legend at 0x26761671c70>"
      ]
     },
     "execution_count": 43,
     "metadata": {},
     "output_type": "execute_result"
    },
    {
     "data": {
      "image/png": "[encoded data removed]",
      "text/plain": [
       "<Figure size 432x288 with 1 Axes>"
      ]
     },
     "metadata": {
      "needs_background": "light"
     },
     "output_type": "display_data"
    }
   ],
   "source": [
    "plt.plot(history['accuracy'])\n",
    "plt.plot(history['val_accuracy'])\n",
    "plt.title('model accuracy')\n",
    "plt.ylabel('accuracy')\n",
    "plt.xlabel('epoch')\n",
    "plt.legend(['train', 'test'], loc='upper left')"
   ]
  },
  {
   "cell_type": "code",
   "execution_count": 44,
   "id": "87530972-2ab8-45d2-b478-7458e7362516",
   "metadata": {},
   "outputs": [
    {
     "data": {
      "text/plain": [
       "<matplotlib.legend.Legend at 0x267b66de580>"
      ]
     },
     "execution_count": 44,
     "metadata": {},
     "output_type": "execute_result"
    },
    {
     "data": {
      "image/png": "[encoded data removed]",
      "text/plain": [
       "<Figure size 432x288 with 1 Axes>"
      ]
     },
     "metadata": {
      "needs_background": "light"
     },
     "output_type": "display_data"
    }
   ],
   "source": [
    "plt.plot(history['loss'])\n",
    "plt.plot(history['val_loss'])\n",
    "plt.title('model loss')\n",
    "plt.ylabel('loss')\n",
    "plt.xlabel('epoch')\n",
    "plt.legend(['train', 'test'], loc='upper left')"
   ]
  },
  {
   "cell_type": "code",
   "execution_count": null,
   "id": "bcd5ac6d-b850-4aa9-85bc-d435dd85dd7e",
   "metadata": {},
   "outputs": [],
   "source": []
  },
  {
   "cell_type": "code",
   "execution_count": 45,
   "id": "1320a11a-090c-45d5-bc99-90973eca0667",
   "metadata": {},
   "outputs": [
    {
     "data": {
      "text/plain": [
       "array([[[0., 0., 0., 0., 0., 0., 0., 0., 0., 0., 0., 0., 0., 0.],\n",
       "        [0., 0., 0., 0., 0., 0., 0., 0., 0., 0., 0., 0., 0., 0.],\n",
       "        [0., 0., 0., 0., 0., 0., 0., 0., 0., 0., 0., 0., 0., 0.]]])"
      ]
     },
     "execution_count": 45,
     "metadata": {},
     "output_type": "execute_result"
    }
   ],
   "source": [
    "def prepare_input(text):\n",
    "    x = np.zeros((1, LENGTH_WORD, len(unique_words)))\n",
    "    for t, word in enumerate(tokenizer.tokenize(text)[:LENGTH_WORD]):\n",
    "#         print(word, t)\n",
    "        if unique_word_index.get(word) != None:\n",
    "            x[0, t, unique_word_index[word]] = 1\n",
    "    return x\n",
    "prepare_input(\"It is not a lack\".lower())"
   ]
  },
  {
   "cell_type": "code",
   "execution_count": 46,
   "id": "09b58568-d771-4207-ac07-9d1afa6351bf",
   "metadata": {},
   "outputs": [
    {
     "data": {
      "text/plain": [
       "array([[[0., 0., 0.],\n",
       "        [0., 0., 0.],\n",
       "        [0., 0., 0.],\n",
       "        [0., 0., 0.],\n",
       "        [0., 0., 0.]]])"
      ]
     },
     "execution_count": 46,
     "metadata": {},
     "output_type": "execute_result"
    }
   ],
   "source": [
    "np.zeros((1, 5, 3))"
   ]
  },
  {
   "cell_type": "code",
   "execution_count": 85,
   "id": "322328c7-36b1-49fd-82cc-446e2e234adf",
   "metadata": {},
   "outputs": [],
   "source": [
    "def sample(preds, top_n=3):\n",
    "    preds = np.asarray(preds).astype('float64')\n",
    "    preds = np.log(preds)\n",
    "    exp_preds = np.exp(preds)\n",
    "    preds = exp_preds / np.sum(exp_preds)\n",
    "    return heapq.nlargest(top_n, range(len(preds)), preds.take)"
   ]
  },
  {
   "cell_type": "code",
   "execution_count": 116,
   "id": "a1acd927-1351-4d61-9903-fc5e02c00ace",
   "metadata": {},
   "outputs": [],
   "source": [
    "def predict_completions(text, n=3):\n",
    "    print(f\"text: {text}\")\n",
    "    x = prepare_input(text)\n",
    "\n",
    "    preds = model.predict(x, verbose=0)[0]\n",
    "    \n",
    "    print(f\"preds: {[format(x, '.6f') for x in preds]}\")\n",
    "\n",
    "    next_indices = sample(preds, n)\n",
    "    \n",
    "#     print(f\"next_indices: {next_indices} {len(next_indices)}\")\n",
    "\n",
    "#     next_tokens = tokenizer.tokenize(text)[1:]\n",
    "\n",
    "#     print(f\"next_tokens: {next_tokens}\")\n",
    "\n",
    "    return [unique_words[idx] for idx in next_indices]"
   ]
  },
  {
   "cell_type": "code",
   "execution_count": 119,
   "id": "26bd6255-547d-4ccd-af80-83772d485250",
   "metadata": {},
   "outputs": [],
   "source": [
    "# quotes = [\n",
    "#     \"It is not a lack of love, but a lack of friendship that makes unhappy marriages.\",\n",
    "#     \"That which does not kill us makes us stronger.\",\n",
    "#     \"I'm not upset that you lied to me, I'm upset that from now on I can't believe you.\",\n",
    "#     \"And those who were seen dancing were thought to be insane by those who could not hear the music.\",\n",
    "#     \"It is hard enough to remember my opinions, without also remembering my reasons for them!\"\n",
    "# ]\n",
    "\n",
    "quotes = [\n",
    "    \"aaa bbb ccc\",\n",
    "    \"hhh iii jjj\",\n",
    "    \"ccc ddd aaa\",\n",
    "    \"aaa\"\n",
    "]"
   ]
  },
  {
   "cell_type": "code",
   "execution_count": 120,
   "id": "4d5e3169-8ab0-4f31-bda8-7161b0e09cc3",
   "metadata": {},
   "outputs": [
    {
     "name": "stdout",
     "output_type": "stream",
     "text": [
      "aaa bbb ccc\n",
      "text: aaa bbb ccc\n",
      "preds: ['0.000007', '0.000002', '0.000006', '0.997863', '0.001225', '0.000016', '0.000002', '0.000064', '0.000536', '0.000142', '0.000002', '0.000004', '0.000123', '0.000006']\n",
      "['ddd', 'eee', 'iii', 'jjj', 'mmm']\n",
      "\n",
      "hhh iii jjj\n",
      "text: hhh iii jjj\n",
      "preds: ['0.000001', '0.000001', '0.000001', '0.000001', '0.000003', '0.000062', '0.000098', '0.000002', '0.000001', '0.001374', '0.996791', '0.001661', '0.000004', '0.000001']\n",
      "['kkk', 'lll', 'jjj', 'ggg', 'fff']\n",
      "\n",
      "ccc ddd aaa\n",
      "text: ccc ddd aaa\n",
      "preds: ['0.000000', '0.000000', '0.000002', '0.000012', '0.004270', '0.994190', '0.001268', '0.000002', '0.000000', '0.000007', '0.000101', '0.000130', '0.000015', '0.000001']\n",
      "['fff', 'eee', 'ggg', 'lll', 'kkk']\n",
      "\n",
      "aaa\n",
      "text: aaa\n",
      "preds: ['0.000201', '0.000093', '0.000182', '0.971063', '0.001240', '0.000181', '0.000115', '0.003954', '0.015736', '0.004246', '0.000133', '0.000104', '0.002550', '0.000202']\n",
      "['ddd', 'iii', 'jjj', 'hhh', 'mmm']\n",
      "\n"
     ]
    }
   ],
   "source": [
    "for q in quotes:\n",
    "    seq = q[:40].lower()\n",
    "    print(seq)\n",
    "    print(predict_completions(seq, 5))\n",
    "    print()"
   ]
  },
  {
   "cell_type": "code",
   "execution_count": 90,
   "id": "c757641a-96fc-440d-9a3b-c50854ea44a9",
   "metadata": {},
   "outputs": [
    {
     "data": {
      "text/plain": [
       "array([0.1 , 0.3 , 1.  , 0.5 , 0.05, 2.  ])"
      ]
     },
     "execution_count": 90,
     "metadata": {},
     "output_type": "execute_result"
    }
   ],
   "source": [
    "a = np.array([.1, .3, 1, .5, .05, 2])\n",
    "a"
   ]
  },
  {
   "cell_type": "code",
   "execution_count": 92,
   "id": "90572c5a-409e-4203-b827-139aeac010f2",
   "metadata": {},
   "outputs": [
    {
     "data": {
      "text/plain": [
       "array([False, False,  True, False, False,  True])"
      ]
     },
     "execution_count": 92,
     "metadata": {},
     "output_type": "execute_result"
    }
   ],
   "source": [
    "a >= 1"
   ]
  },
  {
   "cell_type": "code",
   "execution_count": 95,
   "id": "a3c36455-3aac-4941-8df0-ffce33d929a8",
   "metadata": {},
   "outputs": [
    {
     "data": {
      "text/plain": [
       "array([0.5, 2. ])"
      ]
     },
     "execution_count": 95,
     "metadata": {},
     "output_type": "execute_result"
    }
   ],
   "source": [
    "b = np.array([.5, 2])\n",
    "b"
   ]
  },
  {
   "cell_type": "code",
   "execution_count": 107,
   "id": "446b40ce-2e78-4005-b872-f47e20eb610a",
   "metadata": {},
   "outputs": [
    {
     "data": {
      "text/plain": [
       "(array([0.5, 2. ]), array([3, 5], dtype=int64), array([0, 1], dtype=int64))"
      ]
     },
     "execution_count": 107,
     "metadata": {},
     "output_type": "execute_result"
    }
   ],
   "source": [
    "d = np.intersect1d(a, b, return_indices=True)\n",
    "\n",
    "d"
   ]
  },
  {
   "cell_type": "code",
   "execution_count": 108,
   "id": "b13c5ea5-94db-4cd6-b68f-1dac7d04e285",
   "metadata": {},
   "outputs": [
    {
     "data": {
      "text/plain": [
       "array([False, False, False,  True, False,  True])"
      ]
     },
     "execution_count": 108,
     "metadata": {},
     "output_type": "execute_result"
    }
   ],
   "source": [
    "c = np.zeros(len(a), dtype=bool)\n",
    "\n",
    "np.put(c, d[1], d[0])\n",
    "\n",
    "c"
   ]
  },
  {
   "cell_type": "code",
   "execution_count": null,
   "id": "ed703c20-318c-4375-aa86-35b6c492cb17",
   "metadata": {},
   "outputs": [],
   "source": []
  },
  {
   "cell_type": "code",
   "execution_count": null,
   "id": "e6be63c5-02cc-461d-955e-cbc44e908ea0",
   "metadata": {},
   "outputs": [],
   "source": []
  },
  {
   "cell_type": "code",
   "execution_count": null,
   "id": "a28c9db1-5969-4c5d-8451-2d269f64377d",
   "metadata": {},
   "outputs": [],
   "source": []
  }
 ],
 "metadata": {
  "kernelspec": {
   "display_name": "Python 3",
   "language": "python",
   "name": "python3"
  },
  "language_info": {
   "codemirror_mode": {
    "name": "ipython",
    "version": 3
   },
   "file_extension": ".py",
   "mimetype": "text/x-python",
   "name": "python",
   "nbconvert_exporter": "python",
   "pygments_lexer": "ipython3",
   "version": "3.8.8"
  }
 },
 "nbformat": 4,
 "nbformat_minor": 5
}
