{
 "cells": [
  {
   "cell_type": "code",
   "execution_count": 20,
   "id": "735502b8",
   "metadata": {},
   "outputs": [
    {
     "name": "stdout",
     "output_type": "stream",
     "text": [
      "Requirement already satisfied: sklearn in c:\\python\\python38\\lib\\site-packages (0.0)\n",
      "Collecting matplotlib\n",
      "  Downloading matplotlib-3.4.3-cp38-cp38-win_amd64.whl (7.1 MB)\n",
      "Collecting seaborn\n",
      "  Downloading seaborn-0.11.2-py3-none-any.whl (292 kB)\n",
      "Requirement already satisfied: pandas in c:\\python\\python38\\lib\\site-packages (1.3.4)\n",
      "Requirement already satisfied: scikit-learn in c:\\python\\python38\\lib\\site-packages (from sklearn) (1.0)\n",
      "Collecting pillow>=6.2.0\n",
      "  Downloading Pillow-8.4.0-cp38-cp38-win_amd64.whl (3.2 MB)\n",
      "Collecting pyparsing>=2.2.1\n",
      "  Downloading pyparsing-2.4.7-py2.py3-none-any.whl (67 kB)\n",
      "Requirement already satisfied: numpy>=1.16 in c:\\python\\python38\\lib\\site-packages (from matplotlib) (1.19.5)\n",
      "Collecting cycler>=0.10\n",
      "  Downloading cycler-0.10.0-py2.py3-none-any.whl (6.5 kB)\n",
      "Requirement already satisfied: python-dateutil>=2.7 in c:\\python\\python38\\lib\\site-packages (from matplotlib) (2.8.2)\n",
      "Collecting kiwisolver>=1.0.1\n",
      "  Downloading kiwisolver-1.3.2-cp38-cp38-win_amd64.whl (52 kB)\n",
      "Requirement already satisfied: scipy>=1.0 in c:\\python\\python38\\lib\\site-packages (from seaborn) (1.7.1)\n",
      "Requirement already satisfied: pytz>=2017.3 in c:\\python\\python38\\lib\\site-packages (from pandas) (2021.3)\n",
      "Requirement already satisfied: six in c:\\python\\python38\\lib\\site-packages (from cycler>=0.10->matplotlib) (1.15.0)\n",
      "Requirement already satisfied: threadpoolctl>=2.0.0 in c:\\python\\python38\\lib\\site-packages (from scikit-learn->sklearn) (3.0.0)\n",
      "Requirement already satisfied: joblib>=0.11 in c:\\python\\python38\\lib\\site-packages (from scikit-learn->sklearn) (1.1.0)\n",
      "Installing collected packages: pyparsing, pillow, kiwisolver, cycler, matplotlib, seaborn\n",
      "Successfully installed cycler-0.10.0 kiwisolver-1.3.2 matplotlib-3.4.3 pillow-8.4.0 pyparsing-2.4.7 seaborn-0.11.2\n"
     ]
    },
    {
     "name": "stderr",
     "output_type": "stream",
     "text": [
      "WARNING: You are using pip version 21.2.4; however, version 21.3 is available.\n",
      "You should consider upgrading via the 'c:\\python\\python38\\python.exe -m pip install --upgrade pip' command.\n"
     ]
    }
   ],
   "source": [
    "!pip install sklearn matplotlib seaborn pandas"
   ]
  },
  {
   "cell_type": "code",
   "execution_count": 21,
   "id": "3020be5c-2b90-4244-ac15-3fda8a25cef2",
   "metadata": {},
   "outputs": [],
   "source": [
    "import numpy as np\n",
    "import pandas as pd\n",
    "\n",
    "from sklearn import svm\n",
    "\n",
    "import matplotlib.pyplot as plt\n",
    "import seaborn as sns; sns.set(font_scale=1.2)"
   ]
  },
  {
   "cell_type": "code",
   "execution_count": 22,
   "id": "b873c3c7-8302-4eb1-88eb-e82a669557b9",
   "metadata": {},
   "outputs": [],
   "source": [
    "data_dir = \"Machine Learning Tutorial Part 1 _ 2/Cupcakes vs Muffins.csv\""
   ]
  },
  {
   "cell_type": "code",
   "execution_count": 23,
   "id": "b9426563-63ee-47bd-ad68-258ab4762603",
   "metadata": {},
   "outputs": [],
   "source": [
    "recipes = pd.read_csv(data_dir)"
   ]
  },
  {
   "cell_type": "code",
   "execution_count": 24,
   "id": "b82ee0ff-5030-4543-a458-081c98fab1eb",
   "metadata": {},
   "outputs": [
    {
     "data": {
      "text/html": [
       "<div>\n",
       "<style scoped>\n",
       "    .dataframe tbody tr th:only-of-type {\n",
       "        vertical-align: middle;\n",
       "    }\n",
       "\n",
       "    .dataframe tbody tr th {\n",
       "        vertical-align: top;\n",
       "    }\n",
       "\n",
       "    .dataframe thead th {\n",
       "        text-align: right;\n",
       "    }\n",
       "</style>\n",
       "<table border=\"1\" class=\"dataframe\">\n",
       "  <thead>\n",
       "    <tr style=\"text-align: right;\">\n",
       "      <th></th>\n",
       "      <th>Type</th>\n",
       "      <th>Flour</th>\n",
       "      <th>Milk</th>\n",
       "      <th>Sugar</th>\n",
       "      <th>Butter</th>\n",
       "      <th>Egg</th>\n",
       "      <th>Baking Powder</th>\n",
       "      <th>Vanilla</th>\n",
       "      <th>Salt</th>\n",
       "    </tr>\n",
       "  </thead>\n",
       "  <tbody>\n",
       "    <tr>\n",
       "      <th>0</th>\n",
       "      <td>Muffin</td>\n",
       "      <td>55</td>\n",
       "      <td>28</td>\n",
       "      <td>3</td>\n",
       "      <td>7</td>\n",
       "      <td>5</td>\n",
       "      <td>2</td>\n",
       "      <td>0</td>\n",
       "      <td>0</td>\n",
       "    </tr>\n",
       "    <tr>\n",
       "      <th>1</th>\n",
       "      <td>Muffin</td>\n",
       "      <td>47</td>\n",
       "      <td>24</td>\n",
       "      <td>12</td>\n",
       "      <td>6</td>\n",
       "      <td>9</td>\n",
       "      <td>1</td>\n",
       "      <td>0</td>\n",
       "      <td>0</td>\n",
       "    </tr>\n",
       "    <tr>\n",
       "      <th>2</th>\n",
       "      <td>Muffin</td>\n",
       "      <td>47</td>\n",
       "      <td>23</td>\n",
       "      <td>18</td>\n",
       "      <td>6</td>\n",
       "      <td>4</td>\n",
       "      <td>1</td>\n",
       "      <td>0</td>\n",
       "      <td>0</td>\n",
       "    </tr>\n",
       "    <tr>\n",
       "      <th>3</th>\n",
       "      <td>Muffin</td>\n",
       "      <td>45</td>\n",
       "      <td>11</td>\n",
       "      <td>17</td>\n",
       "      <td>17</td>\n",
       "      <td>8</td>\n",
       "      <td>1</td>\n",
       "      <td>0</td>\n",
       "      <td>0</td>\n",
       "    </tr>\n",
       "    <tr>\n",
       "      <th>4</th>\n",
       "      <td>Muffin</td>\n",
       "      <td>50</td>\n",
       "      <td>25</td>\n",
       "      <td>12</td>\n",
       "      <td>6</td>\n",
       "      <td>5</td>\n",
       "      <td>2</td>\n",
       "      <td>1</td>\n",
       "      <td>0</td>\n",
       "    </tr>\n",
       "  </tbody>\n",
       "</table>\n",
       "</div>"
      ],
      "text/plain": [
       "     Type  Flour  Milk  Sugar  Butter  Egg  Baking Powder  Vanilla  Salt\n",
       "0  Muffin     55    28      3       7    5              2        0     0\n",
       "1  Muffin     47    24     12       6    9              1        0     0\n",
       "2  Muffin     47    23     18       6    4              1        0     0\n",
       "3  Muffin     45    11     17      17    8              1        0     0\n",
       "4  Muffin     50    25     12       6    5              2        1     0"
      ]
     },
     "execution_count": 24,
     "metadata": {},
     "output_type": "execute_result"
    }
   ],
   "source": [
    "recipes.head()"
   ]
  },
  {
   "cell_type": "code",
   "execution_count": 25,
   "id": "4ebf7ce2-ea75-4f39-86a9-1ec92bb22342",
   "metadata": {},
   "outputs": [
    {
     "data": {
      "text/html": [
       "<div>\n",
       "<style scoped>\n",
       "    .dataframe tbody tr th:only-of-type {\n",
       "        vertical-align: middle;\n",
       "    }\n",
       "\n",
       "    .dataframe tbody tr th {\n",
       "        vertical-align: top;\n",
       "    }\n",
       "\n",
       "    .dataframe thead th {\n",
       "        text-align: right;\n",
       "    }\n",
       "</style>\n",
       "<table border=\"1\" class=\"dataframe\">\n",
       "  <thead>\n",
       "    <tr style=\"text-align: right;\">\n",
       "      <th></th>\n",
       "      <th>Type</th>\n",
       "      <th>Flour</th>\n",
       "      <th>Milk</th>\n",
       "      <th>Sugar</th>\n",
       "      <th>Butter</th>\n",
       "      <th>Egg</th>\n",
       "      <th>Baking Powder</th>\n",
       "      <th>Vanilla</th>\n",
       "      <th>Salt</th>\n",
       "    </tr>\n",
       "  </thead>\n",
       "  <tbody>\n",
       "    <tr>\n",
       "      <th>15</th>\n",
       "      <td>Cupcake</td>\n",
       "      <td>42</td>\n",
       "      <td>18</td>\n",
       "      <td>25</td>\n",
       "      <td>9</td>\n",
       "      <td>5</td>\n",
       "      <td>1</td>\n",
       "      <td>0</td>\n",
       "      <td>0</td>\n",
       "    </tr>\n",
       "    <tr>\n",
       "      <th>16</th>\n",
       "      <td>Cupcake</td>\n",
       "      <td>36</td>\n",
       "      <td>14</td>\n",
       "      <td>21</td>\n",
       "      <td>14</td>\n",
       "      <td>11</td>\n",
       "      <td>2</td>\n",
       "      <td>1</td>\n",
       "      <td>0</td>\n",
       "    </tr>\n",
       "    <tr>\n",
       "      <th>17</th>\n",
       "      <td>Cupcake</td>\n",
       "      <td>38</td>\n",
       "      <td>15</td>\n",
       "      <td>31</td>\n",
       "      <td>8</td>\n",
       "      <td>6</td>\n",
       "      <td>1</td>\n",
       "      <td>1</td>\n",
       "      <td>0</td>\n",
       "    </tr>\n",
       "    <tr>\n",
       "      <th>18</th>\n",
       "      <td>Cupcake</td>\n",
       "      <td>36</td>\n",
       "      <td>16</td>\n",
       "      <td>24</td>\n",
       "      <td>12</td>\n",
       "      <td>9</td>\n",
       "      <td>1</td>\n",
       "      <td>1</td>\n",
       "      <td>0</td>\n",
       "    </tr>\n",
       "    <tr>\n",
       "      <th>19</th>\n",
       "      <td>Cupcake</td>\n",
       "      <td>34</td>\n",
       "      <td>17</td>\n",
       "      <td>23</td>\n",
       "      <td>11</td>\n",
       "      <td>13</td>\n",
       "      <td>0</td>\n",
       "      <td>1</td>\n",
       "      <td>0</td>\n",
       "    </tr>\n",
       "  </tbody>\n",
       "</table>\n",
       "</div>"
      ],
      "text/plain": [
       "       Type  Flour  Milk  Sugar  Butter  Egg  Baking Powder  Vanilla  Salt\n",
       "15  Cupcake     42    18     25       9    5              1        0     0\n",
       "16  Cupcake     36    14     21      14   11              2        1     0\n",
       "17  Cupcake     38    15     31       8    6              1        1     0\n",
       "18  Cupcake     36    16     24      12    9              1        1     0\n",
       "19  Cupcake     34    17     23      11   13              0        1     0"
      ]
     },
     "execution_count": 25,
     "metadata": {},
     "output_type": "execute_result"
    }
   ],
   "source": [
    "recipes.tail()"
   ]
  },
  {
   "cell_type": "code",
   "execution_count": 26,
   "id": "ab0df7ed-5ca9-4221-89ef-bc92c5994ef5",
   "metadata": {},
   "outputs": [
    {
     "name": "stderr",
     "output_type": "stream",
     "text": [
      "C:\\Python\\Python38\\lib\\site-packages\\seaborn\\_decorators.py:36: FutureWarning: Pass the following variables as keyword args: x, y. From version 0.12, the only valid positional argument will be `data`, and passing other arguments without an explicit keyword will result in an error or misinterpretation.\n",
      "  warnings.warn(\n"
     ]
    },
    {
     "data": {
      "text/plain": [
       "<seaborn.axisgrid.FacetGrid at 0x1fba8e652b0>"
      ]
     },
     "execution_count": 26,
     "metadata": {},
     "output_type": "execute_result"
    },
    {
     "data": {
      "image/png": "[encoded data removed]",
      "text/plain": [
       "<Figure size 459.77x360 with 1 Axes>"
      ]
     },
     "metadata": {},
     "output_type": "display_data"
    }
   ],
   "source": [
    "# plot data\n",
    "\n",
    "sns.lmplot(\"Flour\", \"Sugar\", data=recipes, hue=\"Type\", palette=\"Set1\", fit_reg=False, scatter_kws={\"s\":70})"
   ]
  },
  {
   "cell_type": "code",
   "execution_count": 27,
   "id": "5052965d-ad53-4104-9a13-c48d070fece1",
   "metadata": {},
   "outputs": [
    {
     "data": {
      "text/plain": [
       "array([0, 0, 0, 0, 0, 0, 0, 0, 0, 0, 1, 1, 1, 1, 1, 1, 1, 1, 1, 1])"
      ]
     },
     "execution_count": 27,
     "metadata": {},
     "output_type": "execute_result"
    }
   ],
   "source": [
    "# format or preprocess data\n",
    "\n",
    "type_label = np.where(recipes[\"Type\"]==\"Muffin\", 0, 1)\n",
    "\n",
    "type_label"
   ]
  },
  {
   "cell_type": "code",
   "execution_count": 28,
   "id": "4474f328-b49e-4ea5-8d5d-4ce05a51a6f5",
   "metadata": {},
   "outputs": [
    {
     "data": {
      "text/plain": [
       "['Flour', 'Milk', 'Sugar', 'Butter', 'Egg', 'Baking Powder', 'Vanilla', 'Salt']"
      ]
     },
     "execution_count": 28,
     "metadata": {},
     "output_type": "execute_result"
    }
   ],
   "source": [
    "recipe_features = recipes.columns.values[1:].tolist()\n",
    "\n",
    "recipe_features"
   ]
  },
  {
   "cell_type": "code",
   "execution_count": 29,
   "id": "164aa7e5-419d-4090-ac1b-e81eecc32a3d",
   "metadata": {},
   "outputs": [
    {
     "data": {
      "text/plain": [
       "array([[55,  3],\n",
       "       [47, 12],\n",
       "       [47, 18],\n",
       "       [45, 17],\n",
       "       [50, 12],\n",
       "       [55,  3],\n",
       "       [54,  7],\n",
       "       [47, 10],\n",
       "       [50, 17],\n",
       "       [50, 17],\n",
       "       [39, 26],\n",
       "       [42, 16],\n",
       "       [34, 20],\n",
       "       [39, 17],\n",
       "       [38, 23],\n",
       "       [42, 25],\n",
       "       [36, 21],\n",
       "       [38, 31],\n",
       "       [36, 24],\n",
       "       [34, 23]], dtype=int64)"
      ]
     },
     "execution_count": 29,
     "metadata": {},
     "output_type": "execute_result"
    }
   ],
   "source": [
    "ingredients = recipes[[\"Flour\", \"Sugar\"]].values\n",
    "\n",
    "ingredients"
   ]
  },
  {
   "cell_type": "code",
   "execution_count": 30,
   "id": "eb51131a-0480-476f-84a6-066630d2bdda",
   "metadata": {},
   "outputs": [
    {
     "data": {
      "text/plain": [
       "SVC(kernel='linear')"
      ]
     },
     "execution_count": 30,
     "metadata": {},
     "output_type": "execute_result"
    }
   ],
   "source": [
    "# fit model\n",
    "\n",
    "model = svm.SVC(kernel=\"linear\")\n",
    "model.fit(ingredients, type_label)"
   ]
  },
  {
   "cell_type": "code",
   "execution_count": 31,
   "id": "cbcf7e3c-5d65-4d9a-b475-18a4dc1ab342",
   "metadata": {},
   "outputs": [
    {
     "data": {
      "text/plain": [
       "array([-6.66503014e-01, -7.77156117e-16])"
      ]
     },
     "execution_count": 31,
     "metadata": {},
     "output_type": "execute_result"
    }
   ],
   "source": [
    "w = model.coef_[0]\n",
    "\n",
    "w"
   ]
  },
  {
   "cell_type": "code",
   "execution_count": 32,
   "id": "edd1b2cd-f4ee-44eb-9c70-2ccd1e7cd34c",
   "metadata": {},
   "outputs": [
    {
     "data": {
      "text/plain": [
       "array([ 1.15779472e+16,  1.10528750e+16,  1.05278028e+16,  1.00027306e+16,\n",
       "        9.47765844e+15,  8.95258624e+15,  8.42751405e+15,  7.90244185e+15,\n",
       "        7.37736965e+15,  6.85229746e+15,  6.32722526e+15,  5.80215306e+15,\n",
       "        5.27708087e+15,  4.75200867e+15,  4.22693647e+15,  3.70186428e+15,\n",
       "        3.17679208e+15,  2.65171988e+15,  2.12664769e+15,  1.60157549e+15,\n",
       "        1.07650329e+15,  5.51431096e+14,  2.63588995e+13, -4.98713297e+14,\n",
       "       -1.02378549e+15, -1.54885769e+15, -2.07392989e+15, -2.59900208e+15,\n",
       "       -3.12407428e+15, -3.64914648e+15, -4.17421867e+15, -4.69929087e+15,\n",
       "       -5.22436307e+15, -5.74943526e+15, -6.27450746e+15, -6.79957966e+15,\n",
       "       -7.32465185e+15, -7.84972405e+15, -8.37479625e+15, -8.89986844e+15,\n",
       "       -9.42494064e+15, -9.95001284e+15, -1.04750850e+16, -1.10001572e+16,\n",
       "       -1.15252294e+16, -1.20503016e+16, -1.25753738e+16, -1.31004460e+16,\n",
       "       -1.36255182e+16, -1.41505904e+16])"
      ]
     },
     "execution_count": 32,
     "metadata": {},
     "output_type": "execute_result"
    }
   ],
   "source": [
    "a = -w[0] / w[1]\n",
    "xx = np.linspace(30,60)\n",
    "yy = a * xx - (model.intercept_[0]) / w[1]\n",
    "\n",
    "yy"
   ]
  },
  {
   "cell_type": "code",
   "execution_count": 33,
   "id": "35cb2075-4653-4c81-ba54-7d372c5b3e75",
   "metadata": {},
   "outputs": [],
   "source": [
    "b = model.support_vectors_[0]\n",
    "yy_down = a * xx + (b[1] - a * b[0])\n",
    "b = model.support_vectors_[-1]\n",
    "yy_up = a * xx + (b[1] - a * b[0])"
   ]
  },
  {
   "cell_type": "code",
   "execution_count": 34,
   "id": "88ecb95e-452e-4978-8e25-30515c4ffe27",
   "metadata": {},
   "outputs": [
    {
     "data": {
      "text/plain": [
       "array([ 1.02914151e+16,  9.76634286e+15,  9.24127066e+15,  8.71619846e+15,\n",
       "        8.19112627e+15,  7.66605407e+15,  7.14098187e+15,  6.61590968e+15,\n",
       "        6.09083748e+15,  5.56576528e+15,  5.04069309e+15,  4.51562089e+15,\n",
       "        3.99054869e+15,  3.46547650e+15,  2.94040430e+15,  2.41533210e+15,\n",
       "        1.89025991e+15,  1.36518771e+15,  8.40115515e+14,  3.15043318e+14,\n",
       "       -2.10028879e+14, -7.35101075e+14, -1.26017327e+15, -1.78524547e+15,\n",
       "       -2.31031767e+15, -2.83538986e+15, -3.36046206e+15, -3.88553426e+15,\n",
       "       -4.41060645e+15, -4.93567865e+15, -5.46075085e+15, -5.98582304e+15,\n",
       "       -6.51089524e+15, -7.03596743e+15, -7.56103963e+15, -8.08611183e+15,\n",
       "       -8.61118402e+15, -9.13625622e+15, -9.66132842e+15, -1.01864006e+16,\n",
       "       -1.07114728e+16, -1.12365450e+16, -1.17616172e+16, -1.22866894e+16,\n",
       "       -1.28117616e+16, -1.33368338e+16, -1.38619060e+16, -1.43869782e+16,\n",
       "       -1.49120504e+16, -1.54371226e+16])"
      ]
     },
     "execution_count": 34,
     "metadata": {},
     "output_type": "execute_result"
    }
   ],
   "source": [
    "yy_up"
   ]
  },
  {
   "cell_type": "code",
   "execution_count": 35,
   "id": "e2957da5-de06-4b9c-b8f3-001a6f97e377",
   "metadata": {},
   "outputs": [
    {
     "data": {
      "text/plain": [
       "array([ 1.28642688e+16,  1.23391966e+16,  1.18141244e+16,  1.12890522e+16,\n",
       "        1.07639800e+16,  1.02389078e+16,  9.71383564e+15,  9.18876344e+15,\n",
       "        8.66369124e+15,  8.13861905e+15,  7.61354685e+15,  7.08847465e+15,\n",
       "        6.56340246e+15,  6.03833026e+15,  5.51325806e+15,  4.98818587e+15,\n",
       "        4.46311367e+15,  3.93804147e+15,  3.41296928e+15,  2.88789708e+15,\n",
       "        2.36282488e+15,  1.83775269e+15,  1.31268049e+15,  7.87608295e+14,\n",
       "        2.62536098e+14, -2.62536098e+14, -7.87608295e+14, -1.31268049e+15,\n",
       "       -1.83775269e+15, -2.36282488e+15, -2.88789708e+15, -3.41296928e+15,\n",
       "       -3.93804147e+15, -4.46311367e+15, -4.98818587e+15, -5.51325806e+15,\n",
       "       -6.03833026e+15, -6.56340246e+15, -7.08847465e+15, -7.61354685e+15,\n",
       "       -8.13861905e+15, -8.66369124e+15, -9.18876344e+15, -9.71383564e+15,\n",
       "       -1.02389078e+16, -1.07639800e+16, -1.12890522e+16, -1.18141244e+16,\n",
       "       -1.23391966e+16, -1.28642688e+16])"
      ]
     },
     "execution_count": 35,
     "metadata": {},
     "output_type": "execute_result"
    }
   ],
   "source": [
    "yy_down"
   ]
  },
  {
   "cell_type": "code",
   "execution_count": 36,
   "id": "b6b618d9-0461-4bc1-b542-4951dece07d3",
   "metadata": {},
   "outputs": [
    {
     "name": "stderr",
     "output_type": "stream",
     "text": [
      "C:\\Python\\Python38\\lib\\site-packages\\seaborn\\_decorators.py:36: FutureWarning: Pass the following variables as keyword args: x, y. From version 0.12, the only valid positional argument will be `data`, and passing other arguments without an explicit keyword will result in an error or misinterpretation.\n",
      "  warnings.warn(\n"
     ]
    },
    {
     "data": {
      "text/plain": [
       "[<matplotlib.lines.Line2D at 0x1fba912f280>]"
      ]
     },
     "execution_count": 36,
     "metadata": {},
     "output_type": "execute_result"
    },
    {
     "data": {
      "image/png": "[encoded data removed]",
      "text/plain": [
       "<Figure size 459.77x360 with 1 Axes>"
      ]
     },
     "metadata": {},
     "output_type": "display_data"
    }
   ],
   "source": [
    "sns.lmplot(\"Flour\", \"Sugar\", data=recipes, hue=\"Type\", palette=\"Set1\", fit_reg=False, scatter_kws={\"s\":70})\n",
    "\n",
    "plt.plot(xx, yy, linewidth=2, color=\"black\")\n",
    "\n",
    "plt.plot(xx, yy_down, \"k--\")\n",
    "plt.plot(xx, yy_up, \"k--\")"
   ]
  },
  {
   "cell_type": "code",
   "execution_count": 37,
   "id": "b20f6219-82a6-4d57-a9ed-a24a56b15f88",
   "metadata": {},
   "outputs": [],
   "source": [
    "# create a function to predict muffin or cupcake\n",
    "\n",
    "def muffin_or_cupcake(flour, sugar):\n",
    "    if (model.predict([[flour, sugar]]))==0:\n",
    "        print(\"Muffin\")\n",
    "    else:\n",
    "        print(\"Cupcake\")"
   ]
  },
  {
   "cell_type": "code",
   "execution_count": 38,
   "id": "198c15a8-a9a6-4ef1-b8e4-5893984a4c86",
   "metadata": {},
   "outputs": [
    {
     "name": "stdout",
     "output_type": "stream",
     "text": [
      "Muffin\n"
     ]
    }
   ],
   "source": [
    "muffin_or_cupcake(50,20)"
   ]
  },
  {
   "cell_type": "code",
   "execution_count": 39,
   "id": "a380cda2-9933-4c1b-8e98-6d68b52ec270",
   "metadata": {},
   "outputs": [
    {
     "name": "stderr",
     "output_type": "stream",
     "text": [
      "C:\\Python\\Python38\\lib\\site-packages\\seaborn\\_decorators.py:36: FutureWarning: Pass the following variables as keyword args: x, y. From version 0.12, the only valid positional argument will be `data`, and passing other arguments without an explicit keyword will result in an error or misinterpretation.\n",
      "  warnings.warn(\n"
     ]
    },
    {
     "data": {
      "text/plain": [
       "[<matplotlib.lines.Line2D at 0x1fba91f5f10>]"
      ]
     },
     "execution_count": 39,
     "metadata": {},
     "output_type": "execute_result"
    },
    {
     "data": {
      "image/png": "[encoded data removed]",
      "text/plain": [
       "<Figure size 459.77x360 with 1 Axes>"
      ]
     },
     "metadata": {},
     "output_type": "display_data"
    }
   ],
   "source": [
    "sns.lmplot(\"Flour\", \"Sugar\", data=recipes, hue=\"Type\", palette=\"Set1\", fit_reg=False, scatter_kws={\"s\":70})\n",
    "plt.plot(xx, yy, linewidth=2, color=\"black\")\n",
    "plt.plot(50,20, \"yo\", markersize=\"9\")"
   ]
  },
  {
   "cell_type": "code",
   "execution_count": null,
   "id": "bd1c2356-7e87-4147-b6e9-c7966d48cd92",
   "metadata": {},
   "outputs": [],
   "source": []
  }
 ],
 "metadata": {
  "interpreter": {
   "hash": "e404b59586357c814bc0d3940e75d6763c00a48753b225b81f7716971b8e1741"
  },
  "kernelspec": {
   "display_name": "Python 3",
   "language": "python",
   "name": "python3"
  },
  "language_info": {
   "codemirror_mode": {
    "name": "ipython",
    "version": 3
   },
   "file_extension": ".py",
   "mimetype": "text/x-python",
   "name": "python",
   "nbconvert_exporter": "python",
   "pygments_lexer": "ipython3",
   "version": "3.8.8"
  }
 },
 "nbformat": 4,
 "nbformat_minor": 5
}
