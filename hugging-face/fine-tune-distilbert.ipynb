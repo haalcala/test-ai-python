{
 "cells": [
  {
   "cell_type": "code",
   "execution_count": 1,
   "metadata": {},
   "outputs": [
    {
     "name": "stdout",
     "output_type": "stream",
     "text": [
      "Requirement already satisfied: transformers in c:\\users\\harol\\anaconda3\\lib\\site-packages (4.26.1)\n",
      "Requirement already satisfied: dataset in c:\\users\\harol\\anaconda3\\lib\\site-packages (1.6.0)\n",
      "Requirement already satisfied: sqlalchemy<2.0.0,>=1.3.2 in c:\\users\\harol\\anaconda3\\lib\\site-packages (from dataset) (1.4.7)\n",
      "Requirement already satisfied: banal>=1.0.1 in c:\\users\\harol\\anaconda3\\lib\\site-packages (from dataset) (1.0.6)\n",
      "Requirement already satisfied: alembic>=0.6.2 in c:\\users\\harol\\anaconda3\\lib\\site-packages (from dataset) (1.9.4)\n",
      "Requirement already satisfied: importlib-resources in c:\\users\\harol\\anaconda3\\lib\\site-packages (from alembic>=0.6.2->dataset) (5.12.0)\n",
      "Requirement already satisfied: importlib-metadata in c:\\users\\harol\\anaconda3\\lib\\site-packages (from alembic>=0.6.2->dataset) (3.10.0)\n",
      "Requirement already satisfied: Mako in c:\\users\\harol\\anaconda3\\lib\\site-packages (from alembic>=0.6.2->dataset) (1.2.4)\n",
      "Requirement already satisfied: greenlet!=0.4.17 in c:\\users\\harol\\anaconda3\\lib\\site-packages (from sqlalchemy<2.0.0,>=1.3.2->dataset) (1.0.0)\n",
      "Requirement already satisfied: filelock in c:\\users\\harol\\anaconda3\\lib\\site-packages (from transformers) (3.0.12)\n",
      "Requirement already satisfied: numpy>=1.17 in c:\\users\\harol\\anaconda3\\lib\\site-packages (from transformers) (1.22.3)\n",
      "Requirement already satisfied: tqdm>=4.27 in c:\\users\\harol\\anaconda3\\lib\\site-packages (from transformers) (4.59.0)\n",
      "Requirement already satisfied: regex!=2019.12.17 in c:\\users\\harol\\anaconda3\\lib\\site-packages (from transformers) (2021.4.4)\n",
      "Requirement already satisfied: packaging>=20.0 in c:\\users\\harol\\anaconda3\\lib\\site-packages (from transformers) (20.9)\n",
      "Requirement already satisfied: huggingface-hub<1.0,>=0.11.0 in c:\\users\\harol\\anaconda3\\lib\\site-packages (from transformers) (0.12.1)\n",
      "Requirement already satisfied: tokenizers!=0.11.3,<0.14,>=0.11.1 in c:\\users\\harol\\anaconda3\\lib\\site-packages (from transformers) (0.13.2)\n",
      "Requirement already satisfied: pyyaml>=5.1 in c:\\users\\harol\\anaconda3\\lib\\site-packages (from transformers) (5.4.1)\n",
      "Requirement already satisfied: requests in c:\\users\\harol\\anaconda3\\lib\\site-packages (from transformers) (2.25.1)\n",
      "Requirement already satisfied: typing-extensions>=3.7.4.3 in c:\\users\\harol\\anaconda3\\lib\\site-packages (from huggingface-hub<1.0,>=0.11.0->transformers) (3.7.4.3)\n",
      "Requirement already satisfied: pyparsing>=2.0.2 in c:\\users\\harol\\anaconda3\\lib\\site-packages (from packaging>=20.0->transformers) (2.4.7)\n",
      "Requirement already satisfied: zipp>=0.5 in c:\\users\\harol\\anaconda3\\lib\\site-packages (from importlib-metadata->alembic>=0.6.2->dataset) (3.4.1)\n",
      "Requirement already satisfied: MarkupSafe>=0.9.2 in c:\\users\\harol\\anaconda3\\lib\\site-packages (from Mako->alembic>=0.6.2->dataset) (1.1.1)\n",
      "Requirement already satisfied: certifi>=2017.4.17 in c:\\users\\harol\\anaconda3\\lib\\site-packages (from requests->transformers) (2022.12.7)\n",
      "Requirement already satisfied: chardet<5,>=3.0.2 in c:\\users\\harol\\anaconda3\\lib\\site-packages (from requests->transformers) (4.0.0)\n",
      "Requirement already satisfied: urllib3<1.27,>=1.21.1 in c:\\users\\harol\\anaconda3\\lib\\site-packages (from requests->transformers) (1.26.4)\n",
      "Requirement already satisfied: idna<3,>=2.5 in c:\\users\\harol\\anaconda3\\lib\\site-packages (from requests->transformers) (2.10)\n"
     ]
    }
   ],
   "source": [
    "!pip install transformers dataset"
   ]
  },
  {
   "cell_type": "code",
   "execution_count": 5,
   "metadata": {},
   "outputs": [],
   "source": [
    "from transformers import DistilBertTokenizerFast, DistilBertForQuestionAnswering\n",
    "\n",
    "# Load the pre-trained model and tokenizer\n",
    "model_name = 'distilbert-base-cased'\n",
    "tokenizer = DistilBertTokenizerFast.from_pretrained(model_name)\n",
    "model = DistilBertForQuestionAnswering.from_pretrained(model_name)\n"
   ]
  },
  {
   "cell_type": "code",
   "execution_count": 6,
   "metadata": {},
   "outputs": [
    {
     "data": {
      "text/plain": [
       "('distilbert-base-cased\\\\tokenizer_config.json',\n",
       " 'distilbert-base-cased\\\\special_tokens_map.json',\n",
       " 'distilbert-base-cased\\\\vocab.txt',\n",
       " 'distilbert-base-cased\\\\added_tokens.json',\n",
       " 'distilbert-base-cased\\\\tokenizer.json')"
      ]
     },
     "execution_count": 6,
     "metadata": {},
     "output_type": "execute_result"
    }
   ],
   "source": [
    "model.save_pretrained(model_name)\n",
    "tokenizer.save_pretrained(model_name)"
   ]
  },
  {
   "cell_type": "code",
   "execution_count": null,
   "metadata": {},
   "outputs": [],
   "source": [
    "from transformers import pipeline, questionpipeline\n",
    "\n",
    "answerer = pipeline()"
   ]
  }
 ],
 "metadata": {
  "kernelspec": {
   "display_name": "base",
   "language": "python",
   "name": "python3"
  },
  "language_info": {
   "codemirror_mode": {
    "name": "ipython",
    "version": 3
   },
   "file_extension": ".py",
   "mimetype": "text/x-python",
   "name": "python",
   "nbconvert_exporter": "python",
   "pygments_lexer": "ipython3",
   "version": "3.8.8"
  },
  "orig_nbformat": 4,
  "vscode": {
   "interpreter": {
    "hash": "3e74c5a2458a454b9b748653c3de0babef185675e08635315cf75054765ba8ca"
   }
  }
 },
 "nbformat": 4,
 "nbformat_minor": 2
}
